{
  "nbformat": 4,
  "nbformat_minor": 0,
  "metadata": {
    "colab": {
      "name": "Copy_of_AppleStockAnalysis(1).ipynb",
      "provenance": [],
      "collapsed_sections": []
    },
    "kernelspec": {
      "name": "python3",
      "display_name": "Python 3"
    }
  },
  "cells": [
    {
      "cell_type": "markdown",
      "metadata": {
        "id": "8yDlnoA-xbTy",
        "colab_type": "text"
      },
      "source": [
        "# Apple Stock prediction Recurrent Neural Network\n",
        "\n",
        "Please Note, this notebook is only for exploration purpose and is meant to explore application of LSTMs into financial markets. Please don't trade or make decisions based on these analysis. "
      ]
    },
    {
      "cell_type": "code",
      "metadata": {
        "id": "1YjrU5aqSiIr",
        "colab_type": "code",
        "outputId": "3df20e57-d1e7-44a9-e1ca-cedbd493e525",
        "colab": {
          "base_uri": "https://localhost:8080/",
          "height": 51
        }
      },
      "source": [
        "import yfinance as yf\n",
        "import matplotlib.pyplot as plt\n",
        "import numpy as np\n",
        "import pandas as pd\n",
        "import seaborn; seaborn.set()\n",
        "import datetime\n",
        "import pandas as pd\n",
        "from keras.models import Sequential\n",
        "from keras.layers import Dense, Activation,LSTM,GRU\n",
        "from sklearn.preprocessing import MinMaxScaler,RobustScaler,StandardScaler\n",
        "from sklearn.metrics import mean_squared_error\n",
        "from pandas import Series\n",
        "\n",
        "import seaborn as sns\n",
        "sns.set()\n",
        "%load_ext autoreload\n",
        "%autoreload 2\n",
        "%matplotlib inline\n",
        "from fastai.imports import *\n",
        "from fastai.structured import *\n",
        "from pandas_summary import DataFrameSummary\n",
        "from sklearn.ensemble import RandomForestRegressor, RandomForestClassifier\n",
        "from IPython.display import display\n",
        "from sklearn import metrics"
      ],
      "execution_count": 0,
      "outputs": [
        {
          "output_type": "stream",
          "text": [
            "The autoreload extension is already loaded. To reload it, use:\n",
            "  %reload_ext autoreload\n"
          ],
          "name": "stdout"
        }
      ]
    },
    {
      "cell_type": "code",
      "metadata": {
        "id": "j78lhVc1gjDS",
        "colab_type": "code",
        "colab": {}
      },
      "source": [
        "import quandl\n"
      ],
      "execution_count": 0,
      "outputs": []
    },
    {
      "cell_type": "markdown",
      "metadata": {
        "id": "MBPNT_XqZIcj",
        "colab_type": "text"
      },
      "source": [
        "### We will do this in 2 steps:\n",
        "\n",
        "\n",
        "1.   Fundamental analysis using Yahoo Finance API\n",
        "2.   Applying Recurrent Neural Network\n",
        "\n"
      ]
    },
    {
      "cell_type": "markdown",
      "metadata": {
        "id": "F1mFDySKydB1",
        "colab_type": "text"
      },
      "source": [
        "## Fundamental analysis"
      ]
    },
    {
      "cell_type": "code",
      "metadata": {
        "id": "5Tssn1a4Wz_9",
        "colab_type": "code",
        "outputId": "45b763f3-3f27-48b5-a6c3-c3b7a74a5c10",
        "colab": {
          "base_uri": "https://localhost:8080/",
          "height": 170
        }
      },
      "source": [
        "quandl.ApiConfig.api_key = \"ybN1pnD4xLUPXsWCvXXd\"\n",
        "data = quandl.get(\"WIKI/FB\")\n",
        "# Take a look at the data\n",
        "print(data.head())"
      ],
      "execution_count": 0,
      "outputs": [
        {
          "output_type": "stream",
          "text": [
            "             Open   High    Low  ...  Adj. Low  Adj. Close  Adj. Volume\n",
            "Date                             ...                                   \n",
            "2012-05-18  42.05  45.00  38.00  ...     38.00     38.2318  573576400.0\n",
            "2012-05-21  36.53  36.66  33.00  ...     33.00     34.0300  168192700.0\n",
            "2012-05-22  32.61  33.59  30.94  ...     30.94     31.0000  101786600.0\n",
            "2012-05-23  31.37  32.50  31.36  ...     31.36     32.0000   73600000.0\n",
            "2012-05-24  32.95  33.21  31.77  ...     31.77     33.0300   50237200.0\n",
            "\n",
            "[5 rows x 12 columns]\n"
          ],
          "name": "stdout"
        }
      ]
    },
    {
      "cell_type": "code",
      "metadata": {
        "id": "_XauzlNiv8LS",
        "colab_type": "code",
        "colab": {}
      },
      "source": [
        "data=data[['Close']]"
      ],
      "execution_count": 0,
      "outputs": []
    },
    {
      "cell_type": "code",
      "metadata": {
        "id": "pQzUynFNO0dP",
        "colab_type": "code",
        "outputId": "ff5a35fe-ee2f-438e-9c07-f833e0bd2422",
        "colab": {
          "base_uri": "https://localhost:8080/",
          "height": 51
        }
      },
      "source": [
        "start_date = '2012-05-18'\n",
        "end_date = '2018-03-27'\n",
        "all_weekdays = pd.date_range(start=start_date, end=end_date, freq='B')\n",
        "\n",
        "all_weekdays=all_weekdays.values\n",
        "\n",
        "print(all_weekdays)"
      ],
      "execution_count": 0,
      "outputs": [
        {
          "output_type": "stream",
          "text": [
            "['2012-05-18T00:00:00.000000000' '2012-05-21T00:00:00.000000000' '2012-05-22T00:00:00.000000000' ...\n",
            " '2018-03-23T00:00:00.000000000' '2018-03-26T00:00:00.000000000' '2018-03-27T00:00:00.000000000']\n"
          ],
          "name": "stdout"
        }
      ]
    },
    {
      "cell_type": "markdown",
      "metadata": {
        "id": "0sWlCovPfWob",
        "colab_type": "text"
      },
      "source": [
        "Okay, now the fundamental analysis is done lets try to predict how is the stock going to behave in the coming days. "
      ]
    },
    {
      "cell_type": "markdown",
      "metadata": {
        "id": "mKv6Rsvjq8OP",
        "colab_type": "text"
      },
      "source": [
        "#Recurrent Neural network \n",
        "RNNs to capture time series data and predict stock price for the next few day"
      ]
    },
    {
      "cell_type": "code",
      "metadata": {
        "id": "bBasfZzdrL86",
        "colab_type": "code",
        "outputId": "af04f397-717d-4e98-833c-6c916ea96823",
        "colab": {
          "base_uri": "https://localhost:8080/",
          "height": 1000
        }
      },
      "source": [
        "import numpy\n",
        "from pandas import datetime\n",
        "import matplotlib.pyplot as plt\n",
        "from pandas import read_csv\n",
        "import math\n",
        "from keras.models import Sequential\n",
        "from keras.layers import Dense\n",
        "from keras.layers import LSTM,GRU\n",
        "from sklearn.preprocessing import MinMaxScaler,RobustScaler,StandardScaler\n",
        "from sklearn.metrics import mean_squared_error\n",
        "from pandas import Series\n",
        "\n",
        "\n",
        "\n",
        "def difference(dataset, interval=1):\n",
        "\tdiff = list()\n",
        "\tfor i in range(interval, len(dataset)):\n",
        "\t\tvalue = dataset[i] - dataset[i - interval]\n",
        "\t\tdiff.append(value)\n",
        "\treturn Series(diff)\n",
        "\n",
        "look_back=30\n",
        "#data=difference(data,look_back)\n",
        "\n",
        "\n",
        "#def project(data,look_back):\n",
        "    #convert an array of values into a dataset matrix\n",
        "    \n",
        "\n",
        "def create_dataset(dataset, look_back=1):\n",
        "    dataX, dataY = [], []\n",
        "    for i in range(len(dataset)-look_back-1):\n",
        "        #takes \n",
        "        a = dataset[i:(i+look_back), 0]\n",
        "        dataX.append(a)\n",
        "        dataY.append(dataset[i+look_back, 0])\n",
        "    return numpy.array(dataX), numpy.array(dataY)\n",
        "\n",
        "# fix random seed for reproducibility\n",
        "numpy.random.seed(0)\n",
        "\n",
        "# load the dataset\n",
        "dataframe = data\n",
        "dataset = dataframe.values\n",
        "dataset = dataset.astype('float64').reshape(-1, 1)\n",
        "\n",
        "# normalize the dataset\n",
        "scaler = MinMaxScaler()\n",
        "#scaler=RobustScaler()\n",
        "#scaler=StandardScaler()\n",
        "dataset = scaler.fit_transform(dataset)\n",
        "\n",
        "# split into train and test sets\n",
        "train_size = int(len(dataset) * 0.95)\n",
        "test_size = len(dataset) - train_size\n",
        "train, test = dataset[0:train_size,:], dataset[train_size:len(dataset),:]\n",
        "\n",
        "# reshape into X=t and Y=t+1\n",
        "#look_back = 10\n",
        "trainX, trainY = create_dataset(train, look_back)\n",
        "testX, testY = create_dataset(test, look_back)\n",
        "\n",
        "# reshape input to be [samples, time steps, features]\n",
        "trainX = numpy.reshape(trainX, (trainX.shape[0], 1, trainX.shape[1]))\n",
        "testX = numpy.reshape(testX, (testX.shape[0], 1, testX.shape[1]))\n",
        "# create and fit the LSTM network\n",
        "from keras.layers import Activation, Dense,Dropout\n",
        "model = Sequential()\n",
        "\n",
        "model.add(LSTM(256, return_sequences=True,input_shape=(1, look_back)))\n",
        "model.add(LSTM(256, return_sequences=True,input_shape=(1, look_back)))\n",
        "#model.add(LSTM(256, return_sequences=True,input_shape=(1, look_back)))\n",
        "model.add(LSTM(256))\n",
        "#model.add(LSTM(100, input_shape=(1, look_back)))\n",
        "\n",
        "model.add(Dense(1))\n",
        "import keras\n",
        "from keras import optimizers\n",
        "\n",
        "#keras.optimizers.Adam(lr=0.01, beta_1=0.9, beta_2=0.999, epsilon=None, decay=0.0, amsgrad=False, clipnorm=1)\n",
        "\n",
        "model.compile(loss='mean_squared_error', optimizer='adam',metrics=['accuracy'])\n",
        "model.fit(trainX, trainY, epochs=20, verbose=1,shuffle=False,batch_size=20,validation_data=(testX, testY))\n",
        "\n",
        "# make predictions\n",
        "trainPredict = model.predict(trainX)\n",
        "testPredict = model.predict(testX)\n",
        "# invert predictions\n",
        "trainPredict = scaler.inverse_transform(trainPredict)\n",
        "trainY = scaler.inverse_transform([trainY])\n",
        "testPredict = scaler.inverse_transform(testPredict)\n",
        "testY = scaler.inverse_transform([testY])\n",
        "# calculate root mean squared error\n",
        "trainScore = math.sqrt(mean_squared_error(trainY[0], trainPredict[:,0]))\n",
        "print('Train Score: %.2f RMSE' % (trainScore))\n",
        "testScore = math.sqrt(mean_squared_error(testY[0], testPredict[:,0]))\n",
        "print('Test Score: %.2f RMSE' % (testScore))\n",
        "predictions = numpy.empty_like(dataset)\n",
        "predictions[:, :] = numpy.nan\n",
        "predictions[look_back:len(trainPredict)+look_back, :] = trainPredict\n",
        "predictions[len(trainPredict)+(look_back*2)+1:len(dataset)-1, :] = testPredict\n",
        "\n",
        "predictionsDF=pd.DataFrame(predictions,columns=[\"predicted\"],index=dataframe.index)\n",
        "ans=pd.concat([dataframe,predictionsDF],axis=1)\n",
        "print( ans,[look_back,trainScore,testScore])"
      ],
      "execution_count": 160,
      "outputs": [
        {
          "output_type": "stream",
          "text": [
            "Train on 1367 samples, validate on 43 samples\n",
            "Epoch 1/20\n",
            "1367/1367 [==============================] - 21s 15ms/step - loss: 0.0024 - acc: 7.3153e-04 - val_loss: 0.0016 - val_acc: 0.0233\n",
            "Epoch 2/20\n",
            "1367/1367 [==============================] - 3s 2ms/step - loss: 0.0088 - acc: 7.3153e-04 - val_loss: 0.0017 - val_acc: 0.0233\n",
            "Epoch 3/20\n",
            "1367/1367 [==============================] - 3s 2ms/step - loss: 0.0050 - acc: 7.3153e-04 - val_loss: 0.0017 - val_acc: 0.0233\n",
            "Epoch 4/20\n",
            "1367/1367 [==============================] - 3s 2ms/step - loss: 0.0011 - acc: 7.3153e-04 - val_loss: 0.0019 - val_acc: 0.0233\n",
            "Epoch 5/20\n",
            "1367/1367 [==============================] - 3s 2ms/step - loss: 8.0778e-04 - acc: 7.3153e-04 - val_loss: 0.0023 - val_acc: 0.0233\n",
            "Epoch 6/20\n",
            "1367/1367 [==============================] - 3s 2ms/step - loss: 8.9964e-04 - acc: 7.3153e-04 - val_loss: 0.0019 - val_acc: 0.0233\n",
            "Epoch 7/20\n",
            "1367/1367 [==============================] - 3s 2ms/step - loss: 8.2211e-04 - acc: 7.3153e-04 - val_loss: 0.0021 - val_acc: 0.0233\n",
            "Epoch 8/20\n",
            "1367/1367 [==============================] - 3s 2ms/step - loss: 8.6614e-04 - acc: 7.3153e-04 - val_loss: 0.0020 - val_acc: 0.0233\n",
            "Epoch 9/20\n",
            "1367/1367 [==============================] - 3s 2ms/step - loss: 8.6292e-04 - acc: 7.3153e-04 - val_loss: 0.0020 - val_acc: 0.0233\n",
            "Epoch 10/20\n",
            "1367/1367 [==============================] - 3s 2ms/step - loss: 8.6365e-04 - acc: 7.3153e-04 - val_loss: 0.0020 - val_acc: 0.0233\n",
            "Epoch 11/20\n",
            "1367/1367 [==============================] - 3s 2ms/step - loss: 8.7882e-04 - acc: 7.3153e-04 - val_loss: 0.0020 - val_acc: 0.0233\n",
            "Epoch 12/20\n",
            "1367/1367 [==============================] - 3s 2ms/step - loss: 8.3808e-04 - acc: 7.3153e-04 - val_loss: 0.0020 - val_acc: 0.0233\n",
            "Epoch 13/20\n",
            "1367/1367 [==============================] - 3s 2ms/step - loss: 8.4360e-04 - acc: 7.3153e-04 - val_loss: 0.0019 - val_acc: 0.0233\n",
            "Epoch 14/20\n",
            "1367/1367 [==============================] - 3s 2ms/step - loss: 7.8721e-04 - acc: 7.3153e-04 - val_loss: 0.0020 - val_acc: 0.0233\n",
            "Epoch 15/20\n",
            "1367/1367 [==============================] - 3s 2ms/step - loss: 7.8104e-04 - acc: 7.3153e-04 - val_loss: 0.0019 - val_acc: 0.0233\n",
            "Epoch 16/20\n",
            "1367/1367 [==============================] - 3s 2ms/step - loss: 7.3118e-04 - acc: 7.3153e-04 - val_loss: 0.0019 - val_acc: 0.0233\n",
            "Epoch 17/20\n",
            "1367/1367 [==============================] - 3s 2ms/step - loss: 7.2060e-04 - acc: 7.3153e-04 - val_loss: 0.0019 - val_acc: 0.0233\n",
            "Epoch 18/20\n",
            "1367/1367 [==============================] - 3s 2ms/step - loss: 6.8268e-04 - acc: 7.3153e-04 - val_loss: 0.0019 - val_acc: 0.0233\n",
            "Epoch 19/20\n",
            "1367/1367 [==============================] - 3s 2ms/step - loss: 6.7230e-04 - acc: 7.3153e-04 - val_loss: 0.0019 - val_acc: 0.0233\n",
            "Epoch 20/20\n",
            "1367/1367 [==============================] - 3s 2ms/step - loss: 6.4386e-04 - acc: 7.3153e-04 - val_loss: 0.0018 - val_acc: 0.0233\n",
            "Train Score: 15.35 RMSE\n",
            "Test Score: 7.53 RMSE\n",
            "               Close   predicted\n",
            "Date                            \n",
            "2012-05-18   38.2318         NaN\n",
            "2012-05-21   34.0300         NaN\n",
            "2012-05-22   31.0000         NaN\n",
            "2012-05-23   32.0000         NaN\n",
            "2012-05-24   33.0300         NaN\n",
            "...              ...         ...\n",
            "2018-03-21  169.3900  182.041443\n",
            "2018-03-22  164.8900  181.453064\n",
            "2018-03-23  159.3900  180.713531\n",
            "2018-03-26  160.0600  179.741104\n",
            "2018-03-27  152.1900         NaN\n",
            "\n",
            "[1472 rows x 2 columns] [30, 15.351301137325082, 7.533950495245187]\n"
          ],
          "name": "stdout"
        }
      ]
    },
    {
      "cell_type": "code",
      "metadata": {
        "id": "quHtQL3Z64mG",
        "colab_type": "code",
        "outputId": "2a7f30c3-b875-4760-dc94-af26360cc36b",
        "colab": {
          "base_uri": "https://localhost:8080/",
          "height": 658
        }
      },
      "source": [
        "plt.style.use('default')\n",
        "plt.figure(figsize=(12,7))\n",
        "\n",
        "plt.plot(all_weekdays[1429:1472],testPredict[:,0], color='green', marker='o', linestyle='dashed', \n",
        "         label='Predicted Price')\n",
        "plt.plot(all_weekdays[1429:1472],testY[0], color='red', label='Actual Price')\n",
        "plt.title('LSTM')\n",
        "plt.xlabel('Dates')\n",
        "plt.ylabel('Prices')\n",
        "\n",
        "plt.legend()"
      ],
      "execution_count": 161,
      "outputs": [
        {
          "output_type": "execute_result",
          "data": {
            "text/plain": [
              "<matplotlib.legend.Legend at 0x7f8b2d9f9390>"
            ]
          },
          "metadata": {
            "tags": []
          },
          "execution_count": 161
        },
        {
          "output_type": "display_data",
          "data": {
            "image/png": "[encoded data removed]",
            "text/plain": [
              "<Figure size 1200x700 with 1 Axes>"
            ]
          },
          "metadata": {
            "tags": []
          }
        }
      ]
    },
    {
      "cell_type": "code",
      "metadata": {
        "id": "Kd4vekbMJDjW",
        "colab_type": "code",
        "colab": {}
      },
      "source": [
        "\n",
        "def smape_kun(y_true, y_pred):\n",
        "    return np.mean((np.abs(y_pred - y_true) * 200/ (np.abs(y_pred) + np.abs(y_true))))\n",
        "\n"
      ],
      "execution_count": 0,
      "outputs": []
    },
    {
      "cell_type": "code",
      "metadata": {
        "id": "56VLniKUJJJx",
        "colab_type": "code",
        "outputId": "c99c2fce-7b94-4289-9042-e6cfe824a2d9",
        "colab": {
          "base_uri": "https://localhost:8080/",
          "height": 51
        }
      },
      "source": [
        "error2 = smape_kun(testY[0], testPredict[:,0])\n",
        "print('Symmetric mean absolute percentage error: %.3f' % error2)\n",
        "error = mean_squared_error(testY[0], testPredict[:,0])\n",
        "print('Testing Mean Squared Error: %.3f' % error)"
      ],
      "execution_count": 162,
      "outputs": [
        {
          "output_type": "stream",
          "text": [
            "Symmetric mean absolute percentage error: 3.083\n",
            "Testing Mean Squared Error: 56.760\n"
          ],
          "name": "stdout"
        }
      ]
    }
  ]
}